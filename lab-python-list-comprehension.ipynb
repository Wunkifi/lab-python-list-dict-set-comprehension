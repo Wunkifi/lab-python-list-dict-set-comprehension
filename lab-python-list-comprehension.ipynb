{
 "cells": [
  {
   "cell_type": "markdown",
   "id": "25d7736c-ba17-4aff-b6bb-66eba20fbf4e",
   "metadata": {},
   "source": [
    "# Lab | List, Dict and Set Comprehension"
   ]
  },
  {
   "cell_type": "markdown",
   "id": "7dd3cbde-675a-4b81-92c3-f728846dbe06",
   "metadata": {},
   "source": [
    "## Exercise: Managing Customer Orders Optimized with Comprehension"
   ]
  },
  {
   "cell_type": "markdown",
   "id": "5d500160-2fb7-4777-b5e4-09d45ebaf328",
   "metadata": {},
   "source": [
    "In the previous exercise, you developed a program to manage customer orders and inventory. Now, let's take it a step further and incorporate comprehension into your code.\n",
    "\n",
    "Follow the steps below to complete the exercise:\n",
    "\n",
    "1. Review your code from the previous exercise and identify areas where you can apply comprehension to simplify and streamline your code. \n",
    "\n",
    "    - *Hint: Apply it to initialize inventory, updating the inventory and printing the updated inventory.*\n",
    "    \n",
    "    - For example, in initializing the inventory, we could have:\n",
    "    \n",
    "        ```python\n",
    "        def initialize_inventory(products):\n",
    "            inventory = {product: int(input(f\"Enter the quantity of {product}s available: \")) for product in products}\n",
    "            return inventory\n",
    "\n",
    "        ```\n",
    "<br>\n",
    "    \n",
    "    \n",
    "2. Modify the function get_customer_orders so it prompts the user to enter the number of customer orders and gathers the product names using a loop and user input. Use comprehension.\n",
    "\n",
    "3. Add a new function to calculate the total price of the customer order. For each product in customer_orders, prompt the user to enter the price of that product. Use comprehension to calculate the total price. Note: assume that the user can only have 1 unit of each product.\n",
    "\n",
    "4. Modify the update_inventory function to remove the product from the inventory if its quantity becomes zero after fulfilling the customer orders. Use comprehension to filter out the products with a quantity of zero from the inventory.\n",
    "\n",
    "5. Print the total price of the customer order.\n",
    "\n",
    "Your code should produce output similar to the following:\n",
    "\n",
    "```python\n",
    "Enter the quantity of t-shirts available:  5\n",
    "Enter the quantity of mugs available:  4\n",
    "Enter the quantity of hats available:  3\n",
    "Enter the quantity of books available:  2\n",
    "Enter the quantity of keychains available:  1\n",
    "Enter the number of customer orders:  2\n",
    "Enter the name of a product that a customer wants to order:  hat\n",
    "Enter the name of a product that a customer wants to order:  keychain\n",
    "\n",
    "Order Statistics:\n",
    "Total Products Ordered: 2\n",
    "Percentage of Unique Products Ordered: 40.0\n",
    "\n",
    "Updated Inventory:\n",
    "t-shirt: 5\n",
    "mug: 4\n",
    "hat: 2\n",
    "book: 2\n",
    "Enter the price of keychain:  5\n",
    "Enter the price of hat:  10\n",
    "Total Price: 15.0\n",
    "\n",
    "```\n"
   ]
  },
  {
   "cell_type": "code",
   "execution_count": 167,
   "id": "9528f01b",
   "metadata": {},
   "outputs": [],
   "source": [
    "#Create a list with the products available\n",
    "products = [\"t-shirt\", \"mug\", \"hat\", \"book\", \"keychain\"]\n",
    "#Create an empty dictionary\n",
    "inventory = {}\n",
    "#Create a new empty set to store the customer orders\n",
    "customer_orders = set()\n",
    "total_price = 0"
   ]
  },
  {
   "cell_type": "code",
   "execution_count": null,
   "id": "ff4f8b42",
   "metadata": {},
   "outputs": [],
   "source": [
    "def initialize_inventory(products):\n",
    "    #Iterate through the products and request a number from the user to update inventory dictionary\n",
    "    return {product: int(input(f\"Please enter the number of {product} available\")) for product in products}"
   ]
  },
  {
   "cell_type": "code",
   "execution_count": 142,
   "id": "8b1af79c",
   "metadata": {},
   "outputs": [],
   "source": [
    "inventory = initialize_inventory(products)"
   ]
  },
  {
   "cell_type": "code",
   "execution_count": 128,
   "id": "80ccd606",
   "metadata": {},
   "outputs": [],
   "source": [
    "\n",
    "#Modify the function get_customer_orders so it prompts the user to enter the number of customer orders and gathers the product names using a loop and user input. Use comprehension.\n",
    "def get_customer_orders():\n",
    "     \n",
    "     return {input(\"Enter the name of a product that a customer wants to order\") for order in range(int(input(f\"Enter the number of customer orders:\")))}"
   ]
  },
  {
   "cell_type": "code",
   "execution_count": 143,
   "id": "a12251f7",
   "metadata": {},
   "outputs": [],
   "source": [
    "customer_orders= get_customer_orders()"
   ]
  },
  {
   "cell_type": "code",
   "execution_count": 144,
   "id": "7e62bcbf",
   "metadata": {},
   "outputs": [],
   "source": [
    "#Add a new function to calculate the total price of the customer order. For each product in customer_orders, prompt the user to enter the price of that product.\n",
    "#Use comprehension to calculate the total price. Note: assume that the user can only have 1 unit of each product.\n",
    "def calculate_customer_order_price(customer_orders):\n",
    "    prices = {int(input(f\"Enter the price of {product}\")) for product in customer_orders}\n",
    "    total = 0\n",
    "    total= {int(total) + price for price in prices}\n",
    "    return total"
   ]
  },
  {
   "cell_type": "code",
   "execution_count": 122,
   "id": "e8c8de29",
   "metadata": {},
   "outputs": [],
   "source": [
    "def calculate_order_statistics(customer_orders, products):\n",
    "    percentage_ordered = (len(customer_orders)/len(products))*100\n",
    "    total_products_ordered = len(customer_orders)\n",
    "    return (total_products_ordered, percentage_ordered)"
   ]
  },
  {
   "cell_type": "code",
   "execution_count": 146,
   "id": "142f797e",
   "metadata": {},
   "outputs": [
    {
     "data": {
      "text/plain": [
       "(2, 40.0)"
      ]
     },
     "execution_count": 146,
     "metadata": {},
     "output_type": "execute_result"
    }
   ],
   "source": [
    "calculate_order_statistics(customer_orders, products)"
   ]
  },
  {
   "cell_type": "code",
   "execution_count": null,
   "id": "3e630e25",
   "metadata": {},
   "outputs": [],
   "source": [
    "#Modify the update_inventory function to remove the product from the inventory if its quantity becomes zero after fulfilling the customer orders. \n",
    "#Use comprehension to filter out the products with a quantity of zero from the inventory.\n",
    "def update_inventory(customer_orders):\n",
    "        local_inventory = {key for key, value in inventory.items() if value - 1 <= 0}\n",
    "\n",
    "        for product in customer_orders:\n",
    "                if (product in local_inventory):\n",
    "                        inventory.pop(product)\n",
    "                else:\n",
    "                        inventory[product] -= 1"
   ]
  },
  {
   "cell_type": "code",
   "execution_count": 147,
   "id": "2d345f19",
   "metadata": {},
   "outputs": [
    {
     "name": "stdout",
     "output_type": "stream",
     "text": [
      "t-shirt : 1\n",
      "book : 1\n",
      "keychain : 1\n"
     ]
    }
   ],
   "source": [
    "update_inventory(customer_orders)"
   ]
  },
  {
   "cell_type": "code",
   "execution_count": 148,
   "id": "a8e26fc0",
   "metadata": {},
   "outputs": [],
   "source": [
    "def print_order_statistics(order_statistics):\n",
    "    #Print statistics\n",
    "    print(f\"Total Products Ordered: {order_statistics[0]}  \\nPercentage of Products Ordered: {order_statistics[1]}%\")"
   ]
  },
  {
   "cell_type": "code",
   "execution_count": 149,
   "id": "05c8f462",
   "metadata": {},
   "outputs": [
    {
     "name": "stdout",
     "output_type": "stream",
     "text": [
      "Total Products Ordered: 2  \n",
      "Percentage of Products Ordered: 40.0%\n"
     ]
    }
   ],
   "source": [
    "print_order_statistics(calculate_order_statistics(customer_orders, products))"
   ]
  },
  {
   "cell_type": "code",
   "execution_count": 163,
   "id": "f486f5c0",
   "metadata": {},
   "outputs": [],
   "source": [
    "\n",
    "#Print the total price of the customer order.\n",
    "def print_updated_inventory():\n",
    "        for key, value in inventory.items():\n",
    "                print(key,\":\",value)"
   ]
  },
  {
   "cell_type": "code",
   "execution_count": 164,
   "id": "e4bae131",
   "metadata": {},
   "outputs": [
    {
     "name": "stdout",
     "output_type": "stream",
     "text": [
      "t-shirt : 1\n",
      "book : 1\n",
      "keychain : 1\n"
     ]
    }
   ],
   "source": [
    "print_updated_inventory()"
   ]
  },
  {
   "cell_type": "code",
   "execution_count": 165,
   "id": "62728dc9",
   "metadata": {},
   "outputs": [],
   "source": [
    "#Print the total price of the customer order.\n",
    "def print_total_price_order(total_price):\n",
    "     print(sum(total_price))"
   ]
  },
  {
   "cell_type": "code",
   "execution_count": 166,
   "id": "17a2f812",
   "metadata": {},
   "outputs": [
    {
     "name": "stdout",
     "output_type": "stream",
     "text": [
      "7\n"
     ]
    }
   ],
   "source": [
    "print_total_price_order(calculate_customer_order_price(customer_orders))"
   ]
  }
 ],
 "metadata": {
  "kernelspec": {
   "display_name": "base",
   "language": "python",
   "name": "python3"
  },
  "language_info": {
   "codemirror_mode": {
    "name": "ipython",
    "version": 3
   },
   "file_extension": ".py",
   "mimetype": "text/x-python",
   "name": "python",
   "nbconvert_exporter": "python",
   "pygments_lexer": "ipython3",
   "version": "3.12.7"
  }
 },
 "nbformat": 4,
 "nbformat_minor": 5
}
